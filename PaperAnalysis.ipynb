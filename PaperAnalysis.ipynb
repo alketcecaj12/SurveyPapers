{
 "cells": [
  {
   "cell_type": "code",
   "execution_count": 129,
   "metadata": {},
   "outputs": [],
   "source": [
    "import pandas as pd\n",
    "import numpy as np\n",
    "import matplotlib.pyplot as plt "
   ]
  },
  {
   "cell_type": "code",
   "execution_count": 130,
   "metadata": {},
   "outputs": [
    {
     "data": {
      "text/html": [
       "<div>\n",
       "<style scoped>\n",
       "    .dataframe tbody tr th:only-of-type {\n",
       "        vertical-align: middle;\n",
       "    }\n",
       "\n",
       "    .dataframe tbody tr th {\n",
       "        vertical-align: top;\n",
       "    }\n",
       "\n",
       "    .dataframe thead th {\n",
       "        text-align: right;\n",
       "    }\n",
       "</style>\n",
       "<table border=\"1\" class=\"dataframe\">\n",
       "  <thead>\n",
       "    <tr style=\"text-align: right;\">\n",
       "      <th></th>\n",
       "      <th>title</th>\n",
       "      <th>data_used</th>\n",
       "      <th>use_case_scenario</th>\n",
       "      <th>forecasting_scenario</th>\n",
       "      <th>year</th>\n",
       "      <th>nr_citations</th>\n",
       "      <th>approach</th>\n",
       "    </tr>\n",
       "  </thead>\n",
       "  <tbody>\n",
       "    <tr>\n",
       "      <td>0</td>\n",
       "      <td>Mobile phone data and COVID-19: Missing an opp...</td>\n",
       "      <td>CDR</td>\n",
       "      <td>Covid-19</td>\n",
       "      <td>ShortTerm</td>\n",
       "      <td>2020</td>\n",
       "      <td>29</td>\n",
       "      <td>Evaluation</td>\n",
       "    </tr>\n",
       "    <tr>\n",
       "      <td>1</td>\n",
       "      <td>Anonymised and aggregated crowd level mobility...</td>\n",
       "      <td>CDR</td>\n",
       "      <td>Covid-19</td>\n",
       "      <td>ShortTerm</td>\n",
       "      <td>2020</td>\n",
       "      <td>1</td>\n",
       "      <td>Evaluation</td>\n",
       "    </tr>\n",
       "    <tr>\n",
       "      <td>2</td>\n",
       "      <td>Effects of human mobility restrictions on the ...</td>\n",
       "      <td>CDR</td>\n",
       "      <td>Covid-19</td>\n",
       "      <td>ShortTerm</td>\n",
       "      <td>2020</td>\n",
       "      <td>3</td>\n",
       "      <td>Evaluation</td>\n",
       "    </tr>\n",
       "    <tr>\n",
       "      <td>3</td>\n",
       "      <td>Impacts of State-Level Policies on Social Dist...</td>\n",
       "      <td>CDR</td>\n",
       "      <td>Covid-19</td>\n",
       "      <td>ShortTerm</td>\n",
       "      <td>2020</td>\n",
       "      <td>13</td>\n",
       "      <td>Evaluation</td>\n",
       "    </tr>\n",
       "    <tr>\n",
       "      <td>4</td>\n",
       "      <td>Measuring mobility to monitor travel and physi...</td>\n",
       "      <td>CDR</td>\n",
       "      <td>Covid-19</td>\n",
       "      <td>ShortTerm</td>\n",
       "      <td>2020</td>\n",
       "      <td>1</td>\n",
       "      <td>Evaluation</td>\n",
       "    </tr>\n",
       "  </tbody>\n",
       "</table>\n",
       "</div>"
      ],
      "text/plain": [
       "                                               title data_used  \\\n",
       "0  Mobile phone data and COVID-19: Missing an opp...       CDR   \n",
       "1  Anonymised and aggregated crowd level mobility...       CDR   \n",
       "2  Effects of human mobility restrictions on the ...       CDR   \n",
       "3  Impacts of State-Level Policies on Social Dist...       CDR   \n",
       "4  Measuring mobility to monitor travel and physi...       CDR   \n",
       "\n",
       "  use_case_scenario forecasting_scenario  year  nr_citations    approach  \n",
       "0          Covid-19            ShortTerm  2020            29  Evaluation  \n",
       "1          Covid-19            ShortTerm  2020             1  Evaluation  \n",
       "2          Covid-19            ShortTerm  2020             3  Evaluation  \n",
       "3          Covid-19            ShortTerm  2020            13  Evaluation  \n",
       "4          Covid-19            ShortTerm  2020             1  Evaluation  "
      ]
     },
     "execution_count": 130,
     "metadata": {},
     "output_type": "execute_result"
    }
   ],
   "source": [
    "papers = pd.read_csv('CrowdPapers.csv')\n",
    "papers.head()"
   ]
  },
  {
   "cell_type": "markdown",
   "metadata": {},
   "source": [
    "### Papers by type of data used"
   ]
  },
  {
   "cell_type": "code",
   "execution_count": 131,
   "metadata": {},
   "outputs": [
    {
     "data": {
      "text/plain": [
       "{'ExperimentalData': 1,\n",
       " 'GPS': 1,\n",
       " 'KinematicsData': 1,\n",
       " 'RFID': 1,\n",
       " 'AppData': 2,\n",
       " 'Social': 8,\n",
       " 'RoadSensors': 12,\n",
       " 'WiFi': 17,\n",
       " 'CDR': 27,\n",
       " 'Simulation': 27,\n",
       " 'Vision': 40,\n",
       " 'Mix': 53}"
      ]
     },
     "execution_count": 131,
     "metadata": {},
     "output_type": "execute_result"
    }
   ],
   "source": [
    "papers_by_data = papers.groupby(papers['data_used'])\n",
    "papersbydata = {}\n",
    "for i, k in papers_by_data: \n",
    "    papersbydata[i] = len(k)\n",
    "    \n",
    "{k: v for k, v in sorted(papersbydata.items(), key=lambda item: item[1])}    "
   ]
  },
  {
   "cell_type": "markdown",
   "metadata": {},
   "source": [
    "### Papers by use_case scenario"
   ]
  },
  {
   "cell_type": "code",
   "execution_count": 132,
   "metadata": {},
   "outputs": [
    {
     "data": {
      "text/plain": [
       "{'CrimePrediction': 1,\n",
       " 'CrowdDensityDetection': 1,\n",
       " 'CrowdSceneUnderstanding': 1,\n",
       " 'CrowdSegmentation': 1,\n",
       " 'CrowdSurveillance': 1,\n",
       " 'EpidemiologicalModelling': 1,\n",
       " 'OccupancyPrediction': 1,\n",
       " 'ParkingAvailability': 1,\n",
       " 'UrbanPlanning': 1,\n",
       " 'BigEvents': 2,\n",
       " 'CrowdSimulation': 2,\n",
       " 'EmergencyManagement': 2,\n",
       " 'CrowdForecasting': 3,\n",
       " 'CrowdSensing': 3,\n",
       " 'CrowdCounting': 5,\n",
       " 'CrowdDensity': 6,\n",
       " 'CrowdSafety': 7,\n",
       " 'CrowdDensityPrediction': 8,\n",
       " 'TrafficForecasting': 15,\n",
       " 'CrowdManagement': 17,\n",
       " 'Covid-19': 21,\n",
       " 'CrowdBehavior': 39,\n",
       " 'CrowdFlowPrediction': 51}"
      ]
     },
     "execution_count": 132,
     "metadata": {},
     "output_type": "execute_result"
    }
   ],
   "source": [
    "papers_by_scenario = papers.groupby(papers['use_case_scenario'])\n",
    "papersbyscenario = {}\n",
    "for i, k in papers_by_scenario: \n",
    "    papersbyscenario[i] = len(k)\n",
    "    \n",
    "{k: v for k, v in sorted(papersbyscenario.items(), key=lambda item: item[1])}  "
   ]
  },
  {
   "cell_type": "code",
   "execution_count": 133,
   "metadata": {},
   "outputs": [
    {
     "data": {
      "text/plain": [
       "{'Methodology': 24, 'Model': 47, 'Evaluation': 50, 'ML_DL': 69}"
      ]
     },
     "execution_count": 133,
     "metadata": {},
     "output_type": "execute_result"
    }
   ],
   "source": [
    "papers_by_approach = papers.groupby(papers['approach'])\n",
    "papersbyapproach = {}\n",
    "for i, k in papers_by_approach: \n",
    "    papersbyapproach[i] = len(k)\n",
    "    \n",
    "{k: v for k, v in sorted(papersbyapproach.items(), key=lambda item: item[1])}"
   ]
  },
  {
   "cell_type": "markdown",
   "metadata": {},
   "source": [
    "### Papers by Forecasting scenario"
   ]
  },
  {
   "cell_type": "code",
   "execution_count": 134,
   "metadata": {},
   "outputs": [
    {
     "data": {
      "text/plain": [
       "{'LongTerm': 10, 'Mix': 12, 'RealTime': 25, 'ShortTerm': 143}"
      ]
     },
     "execution_count": 134,
     "metadata": {},
     "output_type": "execute_result"
    }
   ],
   "source": [
    "papers_by_fc = papers.groupby(papers['forecasting_scenario'])\n",
    "papersbyfc = {}\n",
    "for i, k in papers_by_fc: \n",
    "    papersbyfc[i] = len(k)\n",
    "    \n",
    "{k: v for k, v in sorted(papersbyfc.items(), key=lambda item: item[1])} "
   ]
  },
  {
   "cell_type": "markdown",
   "metadata": {},
   "source": [
    "### Papers by year"
   ]
  },
  {
   "cell_type": "code",
   "execution_count": 142,
   "metadata": {},
   "outputs": [
    {
     "name": "stdout",
     "output_type": "stream",
     "text": [
      "1995 1\n",
      "1998 2\n",
      "2001 1\n",
      "2002 1\n",
      "2003 1\n",
      "2004 1\n",
      "2005 2\n",
      "2006 1\n",
      "2007 2\n",
      "2008 5\n",
      "2009 3\n",
      "2010 2\n",
      "2011 5\n",
      "2012 10\n",
      "2013 10\n",
      "2014 8\n",
      "2015 14\n",
      "2016 23\n",
      "2017 11\n",
      "2018 25\n",
      "2019 21\n",
      "2020 41\n"
     ]
    }
   ],
   "source": [
    "papers_by_year = papers.groupby(papers['year'])\n",
    "papersbyyear = {}\n",
    "for i, k in papers_by_year: \n",
    "    papersbyyear[i] = len(k)\n",
    "    \n",
    "#{k: v for k, v in sorted(papersbyyear.items(), key=lambda item: item[1])}  \n",
    "for i, k in sorted(papersbyyear.items()):\n",
    "    print(i,k)"
   ]
  },
  {
   "cell_type": "code",
   "execution_count": null,
   "metadata": {},
   "outputs": [],
   "source": []
  },
  {
   "cell_type": "code",
   "execution_count": null,
   "metadata": {},
   "outputs": [],
   "source": []
  },
  {
   "cell_type": "code",
   "execution_count": null,
   "metadata": {},
   "outputs": [],
   "source": []
  },
  {
   "cell_type": "code",
   "execution_count": null,
   "metadata": {},
   "outputs": [],
   "source": []
  }
 ],
 "metadata": {
  "kernelspec": {
   "display_name": "Python 3",
   "language": "python",
   "name": "python3"
  },
  "language_info": {
   "codemirror_mode": {
    "name": "ipython",
    "version": 3
   },
   "file_extension": ".py",
   "mimetype": "text/x-python",
   "name": "python",
   "nbconvert_exporter": "python",
   "pygments_lexer": "ipython3",
   "version": "3.7.4"
  }
 },
 "nbformat": 4,
 "nbformat_minor": 2
}
